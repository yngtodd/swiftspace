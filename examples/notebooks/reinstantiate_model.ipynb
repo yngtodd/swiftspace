{
 "cells": [
  {
   "cell_type": "markdown",
   "metadata": {},
   "source": [
    "## Restoring Gradient Boosted Regression Model After Optimization"
   ]
  },
  {
   "cell_type": "code",
   "execution_count": 15,
   "metadata": {
    "collapsed": true
   },
   "outputs": [],
   "source": [
    "from hyperspace.kepler.data_utils import load_results"
   ]
  },
  {
   "cell_type": "markdown",
   "metadata": {},
   "source": [
    "#### Reload the objective function"
   ]
  },
  {
   "cell_type": "code",
   "execution_count": 18,
   "metadata": {
    "collapsed": true
   },
   "outputs": [],
   "source": [
    "def objective(params):\n",
    "    \"\"\"\n",
    "    Objective function to be minimized.\n",
    "    Parameters\n",
    "    ----------\n",
    "    * params [list, len(params)=n_hyperparameters]\n",
    "        Settings of each hyperparameter for a given optimization iteration.\n",
    "        - Controlled by hyperspaces's hyperdrive function.\n",
    "        - Order preserved from list passed to hyperdrive's hyperparameters argument.\n",
    "    \"\"\"\n",
    "    #max_depth, learning_rate, max_features, min_samples_split, min_samples_leaf = params\n",
    "    max_depth, max_features, min_samples_split, min_samples_leaf = params\n",
    "\n",
    "    reg.set_params(max_depth=max_depth,\n",
    "                   learning_rate=learning_rate,\n",
    "                   max_features=max_features,\n",
    "                   min_samples_split=min_samples_split,\n",
    "                   min_samples_leaf=min_samples_leaf)\n",
    "\n",
    "    return -np.mean(cross_val_score(reg, X, y, cv=5, n_jobs=-1,\n",
    "                                    scoring=\"neg_mean_absolute_error\"))"
   ]
  },
  {
   "cell_type": "markdown",
   "metadata": {},
   "source": [
    "#### Load results from optimization"
   ]
  },
  {
   "cell_type": "code",
   "execution_count": 34,
   "metadata": {},
   "outputs": [
    {
     "name": "stdout",
     "output_type": "stream",
     "text": [
      "Number of results: 32\n",
      "\n",
      "Hyperparameters of our best model:\n",
      " [7, 0.18920799259946858, 6, 2, 1]\n"
     ]
    }
   ],
   "source": [
    "gbm_results = load_results(\"../gbm_results\", sort=True)\n",
    "best = gbm_results[0]\n",
    "\n",
    "# Get the hyperparameter values\n",
    "print('Hyperparameters of our best model:\\n {}'.format(best.x))\n",
    "\n",
    "max_depth = best.x[0]\n",
    "learning_rate = best.x[1]\n",
    "max_features = best.x[2]\n",
    "min_samples_split = best.x[3]\n",
    "min_samples_leaf = best.x[4]"
   ]
  },
  {
   "cell_type": "markdown",
   "metadata": {},
   "source": [
    "#### Retraining the Gradient Boosted Regressor with Optimal Hyperparameters"
   ]
  },
  {
   "cell_type": "code",
   "execution_count": 35,
   "metadata": {
    "collapsed": true
   },
   "outputs": [],
   "source": [
    "import numpy as np\n",
    "from sklearn.datasets import load_boston\n",
    "from sklearn.ensemble import GradientBoostingRegressor\n",
    "from sklearn.model_selection import cross_val_score"
   ]
  },
  {
   "cell_type": "code",
   "execution_count": 43,
   "metadata": {},
   "outputs": [
    {
     "name": "stdout",
     "output_type": "stream",
     "text": [
      "Negative Mean Absolute Error with optimal hyperparameters: 2.9032924372635147\n"
     ]
    }
   ],
   "source": [
    "boston = load_boston()\n",
    "X, y = boston.data, boston.target\n",
    "n_features = X.shape[1]\n",
    "\n",
    "reg = GradientBoostingRegressor(n_estimators=50, random_state=0)\n",
    "\n",
    "reg.set_params(max_depth=max_depth,\n",
    "               learning_rate=learning_rate,\n",
    "               max_features=max_features,\n",
    "               min_samples_split=min_samples_split,\n",
    "               min_samples_leaf=min_samples_leaf)\n",
    "\n",
    "final_results = -np.mean(cross_val_score(reg, X, y, cv=5, n_jobs=-1, scoring=\"neg_mean_absolute_error\"))\n",
    "print('Negative Mean Absolute Error with optimal hyperparameters: {}'.format(final_results))"
   ]
  },
  {
   "cell_type": "markdown",
   "metadata": {},
   "source": [
    "#### Notes\n",
    "\n",
    "HyperSpace keeps track of each of the distributed models evaluations. The minimum objective function evaluation at each distributed run can be found in the results `.fun`. We can verify that our re-evaluated model above returns the same negative mean absolute error as that reported by Hyperspace:"
   ]
  },
  {
   "cell_type": "code",
   "execution_count": 44,
   "metadata": {},
   "outputs": [
    {
     "data": {
      "text/plain": [
       "True"
      ]
     },
     "execution_count": 44,
     "metadata": {},
     "output_type": "execute_result"
    }
   ],
   "source": [
    "final_results == best.fun"
   ]
  },
  {
   "cell_type": "code",
   "execution_count": null,
   "metadata": {
    "collapsed": true
   },
   "outputs": [],
   "source": []
  }
 ],
 "metadata": {
  "kernelspec": {
   "display_name": "Python 3",
   "language": "python",
   "name": "python3"
  },
  "language_info": {
   "codemirror_mode": {
    "name": "ipython",
    "version": 3
   },
   "file_extension": ".py",
   "mimetype": "text/x-python",
   "name": "python",
   "nbconvert_exporter": "python",
   "pygments_lexer": "ipython3",
   "version": "3.6.3"
  }
 },
 "nbformat": 4,
 "nbformat_minor": 2
}
